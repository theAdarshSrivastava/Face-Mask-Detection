{
  "nbformat": 4,
  "nbformat_minor": 5,
  "metadata": {
    "accelerator": "GPU",
    "colab": {
      "name": "face-mask-detection (1).ipynb",
      "provenance": [],
      "collapsed_sections": []
    },
    "kernelspec": {
      "display_name": "Python 3",
      "language": "python",
      "name": "python3"
    },
    "language_info": {
      "codemirror_mode": {
        "name": "ipython",
        "version": 3
      },
      "file_extension": ".py",
      "mimetype": "text/x-python",
      "name": "python",
      "nbconvert_exporter": "python",
      "pygments_lexer": "ipython3",
      "version": "3.7.9"
    },
    "papermill": {
      "default_parameters": {},
      "duration": 413.979078,
      "end_time": "2021-05-24T10:07:21.287438",
      "environment_variables": {},
      "exception": null,
      "input_path": "__notebook__.ipynb",
      "output_path": "__notebook__.ipynb",
      "parameters": {},
      "start_time": "2021-05-24T10:00:27.308360",
      "version": "2.3.2"
    }
  },
  "cells": [
    {
      "cell_type": "markdown",
      "metadata": {
        "id": "wicked-stuart"
      },
      "source": [
        "## import libraries"
      ],
      "id": "wicked-stuart"
    },
    {
      "cell_type": "code",
      "metadata": {
        "colab": {
          "base_uri": "https://localhost:8080/"
        },
        "id": "FT26ARAefj1U",
        "outputId": "13962fc1-7f30-45ae-cec0-2c98c1d1a1ff"
      },
      "source": [
        "from google.colab import drive\n",
        "drive.mount('/content/drive')"
      ],
      "id": "FT26ARAefj1U",
      "execution_count": null,
      "outputs": [
        {
          "output_type": "stream",
          "name": "stdout",
          "text": [
            "Mounted at /content/drive\n"
          ]
        }
      ]
    },
    {
      "cell_type": "code",
      "metadata": {
        "id": "incorporated-destination"
      },
      "source": [
        "import pandas as pd # table operations\n",
        "import numpy as np # linear algebra\n",
        "import seaborn as sns # visualizing\n",
        "import os # getting path\n",
        "from sklearn.utils import shuffle\n",
        "import matplotlib.pyplot as plt # visualizing\n",
        "from keras.preprocessing.image import ImageDataGenerator, img_to_array, load_img # prepare image\n",
        "import cv2 # haar cascade\n",
        "from scipy.spatial import distance\n",
        "import glob\n",
        "from warnings import filterwarnings\n",
        "from tensorflow.keras.applications import VGG19 # classify modle\n",
        "from tensorflow.keras.layers import Dense, Flatten\n",
        "from tensorflow.keras.callbacks import ModelCheckpoint # save best model weights\n",
        "from tensorflow.keras.models import Model, load_model # load model\n",
        "from sklearn.metrics import confusion_matrix\n",
        "from skimage import io\n",
        "filterwarnings(\"ignore\")"
      ],
      "id": "incorporated-destination",
      "execution_count": null,
      "outputs": []
    },
    {
      "cell_type": "code",
      "metadata": {
        "id": "impaired-dining"
      },
      "source": [
        "path  = \"/content/drive/MyDrive/Face_mask/\""
      ],
      "id": "impaired-dining",
      "execution_count": null,
      "outputs": []
    },
    {
      "cell_type": "code",
      "metadata": {
        "colab": {
          "base_uri": "https://localhost:8080/",
          "height": 417
        },
        "id": "applicable-manchester",
        "outputId": "96e1ad71-b870-4f62-dd72-0f98aa0f497d"
      },
      "source": [
        "dataset = {\"image_path\":[],\"mask_status\":[],\"where\":[]}\n",
        "for where in os.listdir(path):\n",
        "    for status in os.listdir(path+\"/\"+where):\n",
        "        for image in glob.glob(path+where+\"/\"+status+\"/\"+\"*.png\"):\n",
        "            dataset[\"image_path\"].append(image)\n",
        "            dataset[\"mask_status\"].append(status)\n",
        "            dataset[\"where\"].append(where)\n",
        "dataset = pd.DataFrame(dataset)\n",
        "dataset"
      ],
      "id": "applicable-manchester",
      "execution_count": null,
      "outputs": [
        {
          "output_type": "execute_result",
          "data": {
            "text/html": [
              "<div>\n",
              "<style scoped>\n",
              "    .dataframe tbody tr th:only-of-type {\n",
              "        vertical-align: middle;\n",
              "    }\n",
              "\n",
              "    .dataframe tbody tr th {\n",
              "        vertical-align: top;\n",
              "    }\n",
              "\n",
              "    .dataframe thead th {\n",
              "        text-align: right;\n",
              "    }\n",
              "</style>\n",
              "<table border=\"1\" class=\"dataframe\">\n",
              "  <thead>\n",
              "    <tr style=\"text-align: right;\">\n",
              "      <th></th>\n",
              "      <th>image_path</th>\n",
              "      <th>mask_status</th>\n",
              "      <th>where</th>\n",
              "    </tr>\n",
              "  </thead>\n",
              "  <tbody>\n",
              "    <tr>\n",
              "      <th>0</th>\n",
              "      <td>/content/drive/MyDrive/Face_mask/Validation/Wi...</td>\n",
              "      <td>WithoutMask</td>\n",
              "      <td>Validation</td>\n",
              "    </tr>\n",
              "    <tr>\n",
              "      <th>1</th>\n",
              "      <td>/content/drive/MyDrive/Face_mask/Validation/Wi...</td>\n",
              "      <td>WithoutMask</td>\n",
              "      <td>Validation</td>\n",
              "    </tr>\n",
              "    <tr>\n",
              "      <th>2</th>\n",
              "      <td>/content/drive/MyDrive/Face_mask/Validation/Wi...</td>\n",
              "      <td>WithoutMask</td>\n",
              "      <td>Validation</td>\n",
              "    </tr>\n",
              "    <tr>\n",
              "      <th>3</th>\n",
              "      <td>/content/drive/MyDrive/Face_mask/Validation/Wi...</td>\n",
              "      <td>WithoutMask</td>\n",
              "      <td>Validation</td>\n",
              "    </tr>\n",
              "    <tr>\n",
              "      <th>4</th>\n",
              "      <td>/content/drive/MyDrive/Face_mask/Validation/Wi...</td>\n",
              "      <td>WithoutMask</td>\n",
              "      <td>Validation</td>\n",
              "    </tr>\n",
              "    <tr>\n",
              "      <th>...</th>\n",
              "      <td>...</td>\n",
              "      <td>...</td>\n",
              "      <td>...</td>\n",
              "    </tr>\n",
              "    <tr>\n",
              "      <th>11787</th>\n",
              "      <td>/content/drive/MyDrive/Face_mask/Test/WithMask...</td>\n",
              "      <td>WithMask</td>\n",
              "      <td>Test</td>\n",
              "    </tr>\n",
              "    <tr>\n",
              "      <th>11788</th>\n",
              "      <td>/content/drive/MyDrive/Face_mask/Test/WithMask...</td>\n",
              "      <td>WithMask</td>\n",
              "      <td>Test</td>\n",
              "    </tr>\n",
              "    <tr>\n",
              "      <th>11789</th>\n",
              "      <td>/content/drive/MyDrive/Face_mask/Test/WithMask...</td>\n",
              "      <td>WithMask</td>\n",
              "      <td>Test</td>\n",
              "    </tr>\n",
              "    <tr>\n",
              "      <th>11790</th>\n",
              "      <td>/content/drive/MyDrive/Face_mask/Test/WithMask...</td>\n",
              "      <td>WithMask</td>\n",
              "      <td>Test</td>\n",
              "    </tr>\n",
              "    <tr>\n",
              "      <th>11791</th>\n",
              "      <td>/content/drive/MyDrive/Face_mask/Test/WithMask...</td>\n",
              "      <td>WithMask</td>\n",
              "      <td>Test</td>\n",
              "    </tr>\n",
              "  </tbody>\n",
              "</table>\n",
              "<p>11792 rows × 3 columns</p>\n",
              "</div>"
            ],
            "text/plain": [
              "                                              image_path  ...       where\n",
              "0      /content/drive/MyDrive/Face_mask/Validation/Wi...  ...  Validation\n",
              "1      /content/drive/MyDrive/Face_mask/Validation/Wi...  ...  Validation\n",
              "2      /content/drive/MyDrive/Face_mask/Validation/Wi...  ...  Validation\n",
              "3      /content/drive/MyDrive/Face_mask/Validation/Wi...  ...  Validation\n",
              "4      /content/drive/MyDrive/Face_mask/Validation/Wi...  ...  Validation\n",
              "...                                                  ...  ...         ...\n",
              "11787  /content/drive/MyDrive/Face_mask/Test/WithMask...  ...        Test\n",
              "11788  /content/drive/MyDrive/Face_mask/Test/WithMask...  ...        Test\n",
              "11789  /content/drive/MyDrive/Face_mask/Test/WithMask...  ...        Test\n",
              "11790  /content/drive/MyDrive/Face_mask/Test/WithMask...  ...        Test\n",
              "11791  /content/drive/MyDrive/Face_mask/Test/WithMask...  ...        Test\n",
              "\n",
              "[11792 rows x 3 columns]"
            ]
          },
          "metadata": {},
          "execution_count": 11
        }
      ]
    },
    {
      "cell_type": "code",
      "metadata": {
        "colab": {
          "base_uri": "https://localhost:8080/"
        },
        "id": "chubby-championship",
        "outputId": "9bf15e5b-7ccf-4013-a1e4-e8f8034a8623"
      },
      "source": [
        "dataset.value_counts(\"mask_status\")"
      ],
      "id": "chubby-championship",
      "execution_count": null,
      "outputs": [
        {
          "output_type": "execute_result",
          "data": {
            "text/plain": [
              "mask_status\n",
              "WithoutMask    5909\n",
              "WithMask       5883\n",
              "dtype: int64"
            ]
          },
          "metadata": {},
          "execution_count": 12
        }
      ]
    },
    {
      "cell_type": "code",
      "metadata": {
        "colab": {
          "base_uri": "https://localhost:8080/",
          "height": 330
        },
        "id": "otherwise-estonia",
        "outputId": "23b68e03-7cd8-451a-b54d-786a9401af51"
      },
      "source": [
        "mask = dataset.value_counts(\"mask_status\")[1]\n",
        "withoutmask = dataset.value_counts(\"mask_status\")[0]\n",
        "\n",
        "print(f\"With Mask: {mask},\\nWithout Mask: {withoutmask}\\n\")\n",
        "sns.countplot(dataset[\"mask_status\"])\n",
        "plt.show()"
      ],
      "id": "otherwise-estonia",
      "execution_count": null,
      "outputs": [
        {
          "output_type": "stream",
          "name": "stdout",
          "text": [
            "With Mask: 5883,\n",
            "Without Mask: 5909\n",
            "\n"
          ]
        },
        {
          "output_type": "display_data",
          "data": {
            "image/png": "[encoded data removed]",
            "text/plain": [
              "<Figure size 432x288 with 1 Axes>"
            ]
          },
          "metadata": {
            "needs_background": "light"
          }
        }
      ]
    },
    {
      "cell_type": "code",
      "metadata": {
        "id": "classified-dubai"
      },
      "source": [
        "train_df = dataset[dataset[\"where\"] == \"Train\"]\n",
        "test_df = dataset[dataset[\"where\"] == \"Test\"]\n",
        "valid_df = dataset[dataset[\"where\"] == \"Validation\"]"
      ],
      "id": "classified-dubai",
      "execution_count": null,
      "outputs": []
    },
    {
      "cell_type": "code",
      "metadata": {
        "id": "metropolitan-kruger"
      },
      "source": [
        "train_df = train_df.sample(frac=1)   # this is basically used to shuffle the dataset\n",
        "test_df = test_df.sample(frac=1)\n",
        "valid_df = valid_df.sample(frac=1)\n"
      ],
      "id": "metropolitan-kruger",
      "execution_count": null,
      "outputs": []
    },
    {
      "cell_type": "code",
      "metadata": {
        "colab": {
          "base_uri": "https://localhost:8080/",
          "height": 203
        },
        "id": "satisfactory-trinidad",
        "outputId": "0fdb5f78-950a-439c-d4e2-3f10358cefcd"
      },
      "source": [
        "train_df.head()"
      ],
      "id": "satisfactory-trinidad",
      "execution_count": null,
      "outputs": [
        {
          "output_type": "execute_result",
          "data": {
            "text/html": [
              "<div>\n",
              "<style scoped>\n",
              "    .dataframe tbody tr th:only-of-type {\n",
              "        vertical-align: middle;\n",
              "    }\n",
              "\n",
              "    .dataframe tbody tr th {\n",
              "        vertical-align: top;\n",
              "    }\n",
              "\n",
              "    .dataframe thead th {\n",
              "        text-align: right;\n",
              "    }\n",
              "</style>\n",
              "<table border=\"1\" class=\"dataframe\">\n",
              "  <thead>\n",
              "    <tr style=\"text-align: right;\">\n",
              "      <th></th>\n",
              "      <th>image_path</th>\n",
              "      <th>mask_status</th>\n",
              "      <th>where</th>\n",
              "    </tr>\n",
              "  </thead>\n",
              "  <tbody>\n",
              "    <tr>\n",
              "      <th>9081</th>\n",
              "      <td>/content/drive/MyDrive/Face_mask/Train/WithMas...</td>\n",
              "      <td>WithMask</td>\n",
              "      <td>Train</td>\n",
              "    </tr>\n",
              "    <tr>\n",
              "      <th>10620</th>\n",
              "      <td>/content/drive/MyDrive/Face_mask/Train/WithMas...</td>\n",
              "      <td>WithMask</td>\n",
              "      <td>Train</td>\n",
              "    </tr>\n",
              "    <tr>\n",
              "      <th>10088</th>\n",
              "      <td>/content/drive/MyDrive/Face_mask/Train/WithMas...</td>\n",
              "      <td>WithMask</td>\n",
              "      <td>Train</td>\n",
              "    </tr>\n",
              "    <tr>\n",
              "      <th>815</th>\n",
              "      <td>/content/drive/MyDrive/Face_mask/Train/Without...</td>\n",
              "      <td>WithoutMask</td>\n",
              "      <td>Train</td>\n",
              "    </tr>\n",
              "    <tr>\n",
              "      <th>8262</th>\n",
              "      <td>/content/drive/MyDrive/Face_mask/Train/WithMas...</td>\n",
              "      <td>WithMask</td>\n",
              "      <td>Train</td>\n",
              "    </tr>\n",
              "  </tbody>\n",
              "</table>\n",
              "</div>"
            ],
            "text/plain": [
              "                                              image_path  mask_status  where\n",
              "9081   /content/drive/MyDrive/Face_mask/Train/WithMas...     WithMask  Train\n",
              "10620  /content/drive/MyDrive/Face_mask/Train/WithMas...     WithMask  Train\n",
              "10088  /content/drive/MyDrive/Face_mask/Train/WithMas...     WithMask  Train\n",
              "815    /content/drive/MyDrive/Face_mask/Train/Without...  WithoutMask  Train\n",
              "8262   /content/drive/MyDrive/Face_mask/Train/WithMas...     WithMask  Train"
            ]
          },
          "metadata": {},
          "execution_count": 17
        }
      ]
    },
    {
      "cell_type": "code",
      "metadata": {
        "colab": {
          "base_uri": "https://localhost:8080/",
          "height": 203
        },
        "id": "removed-strike",
        "outputId": "a88406c2-b81a-4f15-89d6-07e438f52c7b"
      },
      "source": [
        "test_df.head()"
      ],
      "id": "removed-strike",
      "execution_count": null,
      "outputs": [
        {
          "output_type": "execute_result",
          "data": {
            "text/html": [
              "<div>\n",
              "<style scoped>\n",
              "    .dataframe tbody tr th:only-of-type {\n",
              "        vertical-align: middle;\n",
              "    }\n",
              "\n",
              "    .dataframe tbody tr th {\n",
              "        vertical-align: top;\n",
              "    }\n",
              "\n",
              "    .dataframe thead th {\n",
              "        text-align: right;\n",
              "    }\n",
              "</style>\n",
              "<table border=\"1\" class=\"dataframe\">\n",
              "  <thead>\n",
              "    <tr style=\"text-align: right;\">\n",
              "      <th></th>\n",
              "      <th>image_path</th>\n",
              "      <th>mask_status</th>\n",
              "      <th>where</th>\n",
              "    </tr>\n",
              "  </thead>\n",
              "  <tbody>\n",
              "    <tr>\n",
              "      <th>11203</th>\n",
              "      <td>/content/drive/MyDrive/Face_mask/Test/WithoutM...</td>\n",
              "      <td>WithoutMask</td>\n",
              "      <td>Test</td>\n",
              "    </tr>\n",
              "    <tr>\n",
              "      <th>10988</th>\n",
              "      <td>/content/drive/MyDrive/Face_mask/Test/WithoutM...</td>\n",
              "      <td>WithoutMask</td>\n",
              "      <td>Test</td>\n",
              "    </tr>\n",
              "    <tr>\n",
              "      <th>11561</th>\n",
              "      <td>/content/drive/MyDrive/Face_mask/Test/WithMask...</td>\n",
              "      <td>WithMask</td>\n",
              "      <td>Test</td>\n",
              "    </tr>\n",
              "    <tr>\n",
              "      <th>11743</th>\n",
              "      <td>/content/drive/MyDrive/Face_mask/Test/WithMask...</td>\n",
              "      <td>WithMask</td>\n",
              "      <td>Test</td>\n",
              "    </tr>\n",
              "    <tr>\n",
              "      <th>11019</th>\n",
              "      <td>/content/drive/MyDrive/Face_mask/Test/WithoutM...</td>\n",
              "      <td>WithoutMask</td>\n",
              "      <td>Test</td>\n",
              "    </tr>\n",
              "  </tbody>\n",
              "</table>\n",
              "</div>"
            ],
            "text/plain": [
              "                                              image_path  mask_status where\n",
              "11203  /content/drive/MyDrive/Face_mask/Test/WithoutM...  WithoutMask  Test\n",
              "10988  /content/drive/MyDrive/Face_mask/Test/WithoutM...  WithoutMask  Test\n",
              "11561  /content/drive/MyDrive/Face_mask/Test/WithMask...     WithMask  Test\n",
              "11743  /content/drive/MyDrive/Face_mask/Test/WithMask...     WithMask  Test\n",
              "11019  /content/drive/MyDrive/Face_mask/Test/WithoutM...  WithoutMask  Test"
            ]
          },
          "metadata": {},
          "execution_count": 18
        }
      ]
    },
    {
      "cell_type": "code",
      "metadata": {
        "colab": {
          "base_uri": "https://localhost:8080/",
          "height": 203
        },
        "id": "starting-cargo",
        "outputId": "9d928471-8b9e-48c6-93e3-e83da217378d"
      },
      "source": [
        "valid_df.head()"
      ],
      "id": "starting-cargo",
      "execution_count": null,
      "outputs": [
        {
          "output_type": "execute_result",
          "data": {
            "text/html": [
              "<div>\n",
              "<style scoped>\n",
              "    .dataframe tbody tr th:only-of-type {\n",
              "        vertical-align: middle;\n",
              "    }\n",
              "\n",
              "    .dataframe tbody tr th {\n",
              "        vertical-align: top;\n",
              "    }\n",
              "\n",
              "    .dataframe thead th {\n",
              "        text-align: right;\n",
              "    }\n",
              "</style>\n",
              "<table border=\"1\" class=\"dataframe\">\n",
              "  <thead>\n",
              "    <tr style=\"text-align: right;\">\n",
              "      <th></th>\n",
              "      <th>image_path</th>\n",
              "      <th>mask_status</th>\n",
              "      <th>where</th>\n",
              "    </tr>\n",
              "  </thead>\n",
              "  <tbody>\n",
              "    <tr>\n",
              "      <th>53</th>\n",
              "      <td>/content/drive/MyDrive/Face_mask/Validation/Wi...</td>\n",
              "      <td>WithoutMask</td>\n",
              "      <td>Validation</td>\n",
              "    </tr>\n",
              "    <tr>\n",
              "      <th>157</th>\n",
              "      <td>/content/drive/MyDrive/Face_mask/Validation/Wi...</td>\n",
              "      <td>WithoutMask</td>\n",
              "      <td>Validation</td>\n",
              "    </tr>\n",
              "    <tr>\n",
              "      <th>647</th>\n",
              "      <td>/content/drive/MyDrive/Face_mask/Validation/Wi...</td>\n",
              "      <td>WithMask</td>\n",
              "      <td>Validation</td>\n",
              "    </tr>\n",
              "    <tr>\n",
              "      <th>310</th>\n",
              "      <td>/content/drive/MyDrive/Face_mask/Validation/Wi...</td>\n",
              "      <td>WithoutMask</td>\n",
              "      <td>Validation</td>\n",
              "    </tr>\n",
              "    <tr>\n",
              "      <th>304</th>\n",
              "      <td>/content/drive/MyDrive/Face_mask/Validation/Wi...</td>\n",
              "      <td>WithoutMask</td>\n",
              "      <td>Validation</td>\n",
              "    </tr>\n",
              "  </tbody>\n",
              "</table>\n",
              "</div>"
            ],
            "text/plain": [
              "                                            image_path  mask_status       where\n",
              "53   /content/drive/MyDrive/Face_mask/Validation/Wi...  WithoutMask  Validation\n",
              "157  /content/drive/MyDrive/Face_mask/Validation/Wi...  WithoutMask  Validation\n",
              "647  /content/drive/MyDrive/Face_mask/Validation/Wi...     WithMask  Validation\n",
              "310  /content/drive/MyDrive/Face_mask/Validation/Wi...  WithoutMask  Validation\n",
              "304  /content/drive/MyDrive/Face_mask/Validation/Wi...  WithoutMask  Validation"
            ]
          },
          "metadata": {},
          "execution_count": 19
        }
      ]
    },
    {
      "cell_type": "code",
      "metadata": {
        "colab": {
          "base_uri": "https://localhost:8080/",
          "height": 406
        },
        "id": "distinguished-toilet",
        "outputId": "f361b0a5-77e7-42b4-d635-9e5a5c2de6ee"
      },
      "source": [
        "plt.figure(figsize = (15,6))\n",
        "plt.subplot(1,3,1)\n",
        "sns.countplot(train_df[\"mask_status\"])\n",
        "plt.title(\"Train_df\", size = 14, color = \"orange\")\n",
        "\n",
        "\n",
        "plt.subplot(1,3,2)\n",
        "sns.countplot(test_df[\"mask_status\"])\n",
        "plt.title(\"Test_df\", size = 14, color = \"red\")\n",
        "\n",
        "\n",
        "plt.subplot(1,3,3)\n",
        "sns.countplot(valid_df[\"mask_status\"])\n",
        "plt.title(\"Validation_df\", size = 14, color = \"blue\")\n",
        "\n",
        "plt.show()"
      ],
      "id": "distinguished-toilet",
      "execution_count": null,
      "outputs": [
        {
          "output_type": "display_data",
          "data": {
            "image/png": "[encoded data removed]",
            "text/plain": [
              "<Figure size 1080x432 with 3 Axes>"
            ]
          },
          "metadata": {
            "needs_background": "light"
          }
        }
      ]
    },
    {
      "cell_type": "markdown",
      "metadata": {
        "id": "regulated-myanmar"
      },
      "source": [
        "## Preprocessing image "
      ],
      "id": "regulated-myanmar"
    },
    {
      "cell_type": "code",
      "metadata": {
        "id": "laughing-bikini"
      },
      "source": [
        "datagen = ImageDataGenerator(rescale = 1./255)"
      ],
      "id": "laughing-bikini",
      "execution_count": null,
      "outputs": []
    },
    {
      "cell_type": "code",
      "metadata": {
        "colab": {
          "base_uri": "https://localhost:8080/"
        },
        "id": "great-therapy",
        "outputId": "41d13ced-d223-4a5e-f5d9-fbd5a6ec0876"
      },
      "source": [
        "train_generator=datagen.flow_from_dataframe(\n",
        "dataframe=train_df,\n",
        "directory=\"../input\",\n",
        "x_col=\"image_path\",\n",
        "y_col=\"mask_status\",\n",
        "batch_size=80,\n",
        "seed=42,\n",
        "shuffle=False,\n",
        "class_mode=\"binary\",\n",
        "target_size=(150,150))"
      ],
      "id": "great-therapy",
      "execution_count": null,
      "outputs": [
        {
          "output_type": "stream",
          "name": "stdout",
          "text": [
            "Found 10000 validated image filenames belonging to 2 classes.\n"
          ]
        }
      ]
    },
    {
      "cell_type": "code",
      "metadata": {
        "id": "intelligent-petersburg",
        "colab": {
          "base_uri": "https://localhost:8080/"
        },
        "outputId": "deaa1c85-455a-4f68-be21-2f296ed6f328"
      },
      "source": [
        "valid_generator=datagen.flow_from_dataframe(\n",
        "dataframe=valid_df,\n",
        "directory=\"../input\",\n",
        "x_col=\"image_path\",\n",
        "y_col=\"mask_status\",\n",
        "batch_size=80,\n",
        "seed=42,\n",
        "shuffle=False,\n",
        "class_mode=\"binary\",\n",
        "target_size=(150,150))"
      ],
      "id": "intelligent-petersburg",
      "execution_count": null,
      "outputs": [
        {
          "output_type": "stream",
          "name": "stdout",
          "text": [
            "Found 800 validated image filenames belonging to 2 classes.\n"
          ]
        }
      ]
    },
    {
      "cell_type": "code",
      "metadata": {
        "id": "searching-passing",
        "colab": {
          "base_uri": "https://localhost:8080/"
        },
        "outputId": "bd2e2942-be06-4f49-ddc0-352a20ce3fee"
      },
      "source": [
        "test_generator=datagen.flow_from_dataframe(\n",
        "dataframe=test_df,\n",
        "directory=\"../input\",\n",
        "x_col=\"image_path\",\n",
        "y_col=\"mask_status\",\n",
        "batch_size=80,\n",
        "seed=42,\n",
        "shuffle=False,\n",
        "class_mode=\"binary\",\n",
        "target_size=(150,150))"
      ],
      "id": "searching-passing",
      "execution_count": null,
      "outputs": [
        {
          "output_type": "stream",
          "name": "stdout",
          "text": [
            "Found 992 validated image filenames belonging to 2 classes.\n"
          ]
        }
      ]
    },
    {
      "cell_type": "markdown",
      "metadata": {
        "id": "talented-tradition"
      },
      "source": [
        "## Classify Model"
      ],
      "id": "talented-tradition"
    },
    {
      "cell_type": "code",
      "metadata": {
        "id": "former-passport",
        "colab": {
          "base_uri": "https://localhost:8080/"
        },
        "outputId": "d8131f9e-1a72-4a7b-fc0e-17ba968caa2d"
      },
      "source": [
        "model = VGG19(weights='imagenet', include_top=False, input_shape=(150, 150, 3))\n",
        "for layer in model.layers[2:]: \n",
        "  layer.trainable = False\n",
        "model.summary()"
      ],
      "id": "former-passport",
      "execution_count": null,
      "outputs": [
        {
          "output_type": "stream",
          "name": "stdout",
          "text": [
            "Downloading data from https://storage.googleapis.com/tensorflow/keras-applications/vgg19/vgg19_weights_tf_dim_ordering_tf_kernels_notop.h5\n",
            "80142336/80134624 [==============================] - 1s 0us/step\n",
            "80150528/80134624 [==============================] - 1s 0us/step\n",
            "Model: \"vgg19\"\n",
            "_________________________________________________________________\n",
            " Layer (type)                Output Shape              Param #   \n",
            "=================================================================\n",
            " input_1 (InputLayer)        [(None, 150, 150, 3)]     0         \n",
            "                                                                 \n",
            " block1_conv1 (Conv2D)       (None, 150, 150, 64)      1792      \n",
            "                                                                 \n",
            " block1_conv2 (Conv2D)       (None, 150, 150, 64)      36928     \n",
            "                                                                 \n",
            " block1_pool (MaxPooling2D)  (None, 75, 75, 64)        0         \n",
            "                                                                 \n",
            " block2_conv1 (Conv2D)       (None, 75, 75, 128)       73856     \n",
            "                                                                 \n",
            " block2_conv2 (Conv2D)       (None, 75, 75, 128)       147584    \n",
            "                                                                 \n",
            " block2_pool (MaxPooling2D)  (None, 37, 37, 128)       0         \n",
            "                                                                 \n",
            " block3_conv1 (Conv2D)       (None, 37, 37, 256)       295168    \n",
            "                                                                 \n",
            " block3_conv2 (Conv2D)       (None, 37, 37, 256)       590080    \n",
            "                                                                 \n",
            " block3_conv3 (Conv2D)       (None, 37, 37, 256)       590080    \n",
            "                                                                 \n",
            " block3_conv4 (Conv2D)       (None, 37, 37, 256)       590080    \n",
            "                                                                 \n",
            " block3_pool (MaxPooling2D)  (None, 18, 18, 256)       0         \n",
            "                                                                 \n",
            " block4_conv1 (Conv2D)       (None, 18, 18, 512)       1180160   \n",
            "                                                                 \n",
            " block4_conv2 (Conv2D)       (None, 18, 18, 512)       2359808   \n",
            "                                                                 \n",
            " block4_conv3 (Conv2D)       (None, 18, 18, 512)       2359808   \n",
            "                                                                 \n",
            " block4_conv4 (Conv2D)       (None, 18, 18, 512)       2359808   \n",
            "                                                                 \n",
            " block4_pool (MaxPooling2D)  (None, 9, 9, 512)         0         \n",
            "                                                                 \n",
            " block5_conv1 (Conv2D)       (None, 9, 9, 512)         2359808   \n",
            "                                                                 \n",
            " block5_conv2 (Conv2D)       (None, 9, 9, 512)         2359808   \n",
            "                                                                 \n",
            " block5_conv3 (Conv2D)       (None, 9, 9, 512)         2359808   \n",
            "                                                                 \n",
            " block5_conv4 (Conv2D)       (None, 9, 9, 512)         2359808   \n",
            "                                                                 \n",
            " block5_pool (MaxPooling2D)  (None, 4, 4, 512)         0         \n",
            "                                                                 \n",
            "=================================================================\n",
            "Total params: 20,024,384\n",
            "Trainable params: 1,792\n",
            "Non-trainable params: 20,022,592\n",
            "_________________________________________________________________\n"
          ]
        }
      ]
    },
    {
      "cell_type": "code",
      "metadata": {
        "id": "powered-ordinary"
      },
      "source": [
        "x=Flatten()(model.output)\n",
        "x2 = Dense(128, activation=\"relu\")(x)\n",
        "output=Dense(1,activation='sigmoid')(x2) # \n",
        "model=Model(model.input,output)"
      ],
      "id": "powered-ordinary",
      "execution_count": null,
      "outputs": []
    },
    {
      "cell_type": "code",
      "metadata": {
        "id": "lightweight-closing",
        "colab": {
          "base_uri": "https://localhost:8080/"
        },
        "outputId": "7118efde-9546-40b2-fbd8-ecabd6776cba"
      },
      "source": [
        "model.summary()"
      ],
      "id": "lightweight-closing",
      "execution_count": null,
      "outputs": [
        {
          "output_type": "stream",
          "name": "stdout",
          "text": [
            "Model: \"model\"\n",
            "_________________________________________________________________\n",
            " Layer (type)                Output Shape              Param #   \n",
            "=================================================================\n",
            " input_1 (InputLayer)        [(None, 150, 150, 3)]     0         \n",
            "                                                                 \n",
            " block1_conv1 (Conv2D)       (None, 150, 150, 64)      1792      \n",
            "                                                                 \n",
            " block1_conv2 (Conv2D)       (None, 150, 150, 64)      36928     \n",
            "                                                                 \n",
            " block1_pool (MaxPooling2D)  (None, 75, 75, 64)        0         \n",
            "                                                                 \n",
            " block2_conv1 (Conv2D)       (None, 75, 75, 128)       73856     \n",
            "                                                                 \n",
            " block2_conv2 (Conv2D)       (None, 75, 75, 128)       147584    \n",
            "                                                                 \n",
            " block2_pool (MaxPooling2D)  (None, 37, 37, 128)       0         \n",
            "                                                                 \n",
            " block3_conv1 (Conv2D)       (None, 37, 37, 256)       295168    \n",
            "                                                                 \n",
            " block3_conv2 (Conv2D)       (None, 37, 37, 256)       590080    \n",
            "                                                                 \n",
            " block3_conv3 (Conv2D)       (None, 37, 37, 256)       590080    \n",
            "                                                                 \n",
            " block3_conv4 (Conv2D)       (None, 37, 37, 256)       590080    \n",
            "                                                                 \n",
            " block3_pool (MaxPooling2D)  (None, 18, 18, 256)       0         \n",
            "                                                                 \n",
            " block4_conv1 (Conv2D)       (None, 18, 18, 512)       1180160   \n",
            "                                                                 \n",
            " block4_conv2 (Conv2D)       (None, 18, 18, 512)       2359808   \n",
            "                                                                 \n",
            " block4_conv3 (Conv2D)       (None, 18, 18, 512)       2359808   \n",
            "                                                                 \n",
            " block4_conv4 (Conv2D)       (None, 18, 18, 512)       2359808   \n",
            "                                                                 \n",
            " block4_pool (MaxPooling2D)  (None, 9, 9, 512)         0         \n",
            "                                                                 \n",
            " block5_conv1 (Conv2D)       (None, 9, 9, 512)         2359808   \n",
            "                                                                 \n",
            " block5_conv2 (Conv2D)       (None, 9, 9, 512)         2359808   \n",
            "                                                                 \n",
            " block5_conv3 (Conv2D)       (None, 9, 9, 512)         2359808   \n",
            "                                                                 \n",
            " block5_conv4 (Conv2D)       (None, 9, 9, 512)         2359808   \n",
            "                                                                 \n",
            " block5_pool (MaxPooling2D)  (None, 4, 4, 512)         0         \n",
            "                                                                 \n",
            " flatten (Flatten)           (None, 8192)              0         \n",
            "                                                                 \n",
            " dense (Dense)               (None, 128)               1048704   \n",
            "                                                                 \n",
            " dense_1 (Dense)             (None, 1)                 129       \n",
            "                                                                 \n",
            "=================================================================\n",
            "Total params: 21,073,217\n",
            "Trainable params: 1,050,625\n",
            "Non-trainable params: 20,022,592\n",
            "_________________________________________________________________\n"
          ]
        }
      ]
    },
    {
      "cell_type": "code",
      "metadata": {
        "id": "promotional-machinery"
      },
      "source": [
        "# save best weights\n",
        "checkpoint = ModelCheckpoint(\"classify_model.h5\", save_best_only=True, verbose = 1)"
      ],
      "id": "promotional-machinery",
      "execution_count": null,
      "outputs": []
    },
    {
      "cell_type": "code",
      "metadata": {
        "id": "reduced-egypt",
        "colab": {
          "base_uri": "https://localhost:8080/"
        },
        "outputId": "90eb51b6-9e8a-424e-b234-d23ae7bea89b"
      },
      "source": [
        "model.compile(optimizer=\"adam\", loss = \"binary_crossentropy\", metrics = [\"accuracy\"])\n",
        "history = model.fit_generator(train_generator,validation_data  = valid_generator, epochs = 5, steps_per_epoch=(len(train_generator.labels) / 80) ,validation_steps=(len(valid_generator.labels)/80), callbacks =[checkpoint])"
      ],
      "id": "reduced-egypt",
      "execution_count": null,
      "outputs": [
        {
          "output_type": "stream",
          "name": "stdout",
          "text": [
            "Epoch 1/5\n",
            "125/125 [==============================] - ETA: 0s - loss: 0.1168 - accuracy: 0.9578 \n",
            "Epoch 00001: val_loss improved from inf to 0.00821, saving model to classify_model.h5\n",
            "125/125 [==============================] - 2038s 16s/step - loss: 0.1168 - accuracy: 0.9578 - val_loss: 0.0082 - val_accuracy: 1.0000\n",
            "Epoch 2/5\n",
            "125/125 [==============================] - ETA: 0s - loss: 0.0117 - accuracy: 0.9970\n",
            "Epoch 00002: val_loss improved from 0.00821 to 0.00756, saving model to classify_model.h5\n",
            "125/125 [==============================] - 106s 847ms/step - loss: 0.0117 - accuracy: 0.9970 - val_loss: 0.0076 - val_accuracy: 0.9987\n",
            "Epoch 3/5\n",
            "125/125 [==============================] - ETA: 0s - loss: 0.0058 - accuracy: 0.9987\n",
            "Epoch 00003: val_loss improved from 0.00756 to 0.00585, saving model to classify_model.h5\n",
            "125/125 [==============================] - 106s 844ms/step - loss: 0.0058 - accuracy: 0.9987 - val_loss: 0.0058 - val_accuracy: 0.9987\n",
            "Epoch 4/5\n",
            "125/125 [==============================] - ETA: 0s - loss: 0.0038 - accuracy: 0.9993\n",
            "Epoch 00004: val_loss improved from 0.00585 to 0.00299, saving model to classify_model.h5\n",
            "125/125 [==============================] - 105s 841ms/step - loss: 0.0038 - accuracy: 0.9993 - val_loss: 0.0030 - val_accuracy: 1.0000\n",
            "Epoch 5/5\n",
            "125/125 [==============================] - ETA: 0s - loss: 0.0021 - accuracy: 0.9997\n",
            "Epoch 00005: val_loss improved from 0.00299 to 0.00247, saving model to classify_model.h5\n",
            "125/125 [==============================] - 105s 839ms/step - loss: 0.0021 - accuracy: 0.9997 - val_loss: 0.0025 - val_accuracy: 1.0000\n"
          ]
        }
      ]
    },
    {
      "cell_type": "code",
      "metadata": {
        "id": "clean-flesh"
      },
      "source": [
        "# load model\n",
        "model = load_model(\"classify_model.h5\")"
      ],
      "id": "clean-flesh",
      "execution_count": null,
      "outputs": []
    },
    {
      "cell_type": "code",
      "metadata": {
        "id": "familiar-colon",
        "colab": {
          "base_uri": "https://localhost:8080/"
        },
        "outputId": "6213720f-4aba-4721-ef16-9f08a9156dc2"
      },
      "source": [
        "model.evaluate_generator(test_generator, verbose=1)"
      ],
      "id": "familiar-colon",
      "execution_count": null,
      "outputs": [
        {
          "output_type": "stream",
          "name": "stdout",
          "text": [
            "13/13 [==============================] - 199s 16s/step - loss: 0.0151 - accuracy: 0.9990\n"
          ]
        },
        {
          "output_type": "execute_result",
          "data": {
            "text/plain": [
              "[0.015123040415346622, 0.9989919066429138]"
            ]
          },
          "metadata": {},
          "execution_count": 31
        }
      ]
    },
    {
      "cell_type": "code",
      "metadata": {
        "id": "affecting-orange",
        "colab": {
          "base_uri": "https://localhost:8080/"
        },
        "outputId": "11e76282-a431-4f53-d7da-a81d658284a5"
      },
      "source": [
        "model.summary()"
      ],
      "id": "affecting-orange",
      "execution_count": null,
      "outputs": [
        {
          "output_type": "stream",
          "name": "stdout",
          "text": [
            "Model: \"model\"\n",
            "_________________________________________________________________\n",
            " Layer (type)                Output Shape              Param #   \n",
            "=================================================================\n",
            " input_1 (InputLayer)        [(None, 150, 150, 3)]     0         \n",
            "                                                                 \n",
            " block1_conv1 (Conv2D)       (None, 150, 150, 64)      1792      \n",
            "                                                                 \n",
            " block1_conv2 (Conv2D)       (None, 150, 150, 64)      36928     \n",
            "                                                                 \n",
            " block1_pool (MaxPooling2D)  (None, 75, 75, 64)        0         \n",
            "                                                                 \n",
            " block2_conv1 (Conv2D)       (None, 75, 75, 128)       73856     \n",
            "                                                                 \n",
            " block2_conv2 (Conv2D)       (None, 75, 75, 128)       147584    \n",
            "                                                                 \n",
            " block2_pool (MaxPooling2D)  (None, 37, 37, 128)       0         \n",
            "                                                                 \n",
            " block3_conv1 (Conv2D)       (None, 37, 37, 256)       295168    \n",
            "                                                                 \n",
            " block3_conv2 (Conv2D)       (None, 37, 37, 256)       590080    \n",
            "                                                                 \n",
            " block3_conv3 (Conv2D)       (None, 37, 37, 256)       590080    \n",
            "                                                                 \n",
            " block3_conv4 (Conv2D)       (None, 37, 37, 256)       590080    \n",
            "                                                                 \n",
            " block3_pool (MaxPooling2D)  (None, 18, 18, 256)       0         \n",
            "                                                                 \n",
            " block4_conv1 (Conv2D)       (None, 18, 18, 512)       1180160   \n",
            "                                                                 \n",
            " block4_conv2 (Conv2D)       (None, 18, 18, 512)       2359808   \n",
            "                                                                 \n",
            " block4_conv3 (Conv2D)       (None, 18, 18, 512)       2359808   \n",
            "                                                                 \n",
            " block4_conv4 (Conv2D)       (None, 18, 18, 512)       2359808   \n",
            "                                                                 \n",
            " block4_pool (MaxPooling2D)  (None, 9, 9, 512)         0         \n",
            "                                                                 \n",
            " block5_conv1 (Conv2D)       (None, 9, 9, 512)         2359808   \n",
            "                                                                 \n",
            " block5_conv2 (Conv2D)       (None, 9, 9, 512)         2359808   \n",
            "                                                                 \n",
            " block5_conv3 (Conv2D)       (None, 9, 9, 512)         2359808   \n",
            "                                                                 \n",
            " block5_conv4 (Conv2D)       (None, 9, 9, 512)         2359808   \n",
            "                                                                 \n",
            " block5_pool (MaxPooling2D)  (None, 4, 4, 512)         0         \n",
            "                                                                 \n",
            " flatten (Flatten)           (None, 8192)              0         \n",
            "                                                                 \n",
            " dense (Dense)               (None, 128)               1048704   \n",
            "                                                                 \n",
            " dense_1 (Dense)             (None, 1)                 129       \n",
            "                                                                 \n",
            "=================================================================\n",
            "Total params: 21,073,217\n",
            "Trainable params: 1,050,625\n",
            "Non-trainable params: 20,022,592\n",
            "_________________________________________________________________\n"
          ]
        }
      ]
    },
    {
      "cell_type": "markdown",
      "metadata": {
        "id": "furnished-camel"
      },
      "source": [
        "## Model evaluation"
      ],
      "id": "furnished-camel"
    },
    {
      "cell_type": "code",
      "metadata": {
        "id": "prepared-preparation",
        "colab": {
          "base_uri": "https://localhost:8080/",
          "height": 265
        },
        "outputId": "1ae7b940-4bbe-421e-f448-b027fb0eba93"
      },
      "source": [
        "plt.figure(figsize = (10,4))\n",
        "plt.subplot(1,2,1)\n",
        "plt.plot(history.history[\"accuracy\"], label = \"train accuracy\", color = \"red\")\n",
        "plt.plot(history.history[\"val_accuracy\"], label = \"validation accuracy\", color = \"blue\")\n",
        "plt.legend()\n",
        "\n",
        "plt.subplot(1,2,2)\n",
        "plt.plot(history.history[\"loss\"], label = \"train loss\", color = \"red\")\n",
        "plt.plot(history.history[\"val_loss\"], label = \"validation loss\", color = \"blue\")\n",
        "\n",
        "plt.legend()\n",
        "plt.show()"
      ],
      "id": "prepared-preparation",
      "execution_count": null,
      "outputs": [
        {
          "output_type": "display_data",
          "data": {
            "image/png": "[encoded data removed]",
            "text/plain": [
              "<Figure size 720x288 with 2 Axes>"
            ]
          },
          "metadata": {
            "needs_background": "light"
          }
        }
      ]
    },
    {
      "cell_type": "code",
      "metadata": {
        "id": "neural-notification",
        "colab": {
          "base_uri": "https://localhost:8080/"
        },
        "outputId": "7652cd6a-b4e0-4013-f84b-028677cf5e77"
      },
      "source": [
        "predictions = model.predict_generator(test_generator, verbose = 1,workers=-1)"
      ],
      "id": "neural-notification",
      "execution_count": null,
      "outputs": [
        {
          "output_type": "stream",
          "name": "stdout",
          "text": [
            "13/13 [==============================] - 8s 591ms/step\n"
          ]
        }
      ]
    },
    {
      "cell_type": "code",
      "metadata": {
        "id": "nasty-dryer",
        "colab": {
          "base_uri": "https://localhost:8080/",
          "height": 320
        },
        "outputId": "304b7e4f-d112-4fe0-c16c-61998c46351d"
      },
      "source": [
        "plt.figure(figsize = (8,5))\n",
        "sns.heatmap(confusion_matrix(test_generator.labels, predictions.round()), annot = True,fmt=\"d\",cmap = \"Blues\")\n",
        "plt.show()"
      ],
      "id": "nasty-dryer",
      "execution_count": null,
      "outputs": [
        {
          "output_type": "display_data",
          "data": {
            "image/png": "[encoded data removed]",
            "text/plain": [
              "<Figure size 576x360 with 2 Axes>"
            ]
          },
          "metadata": {
            "needs_background": "light"
          }
        }
      ]
    },
    {
      "cell_type": "code",
      "metadata": {
        "id": "lbbnV6aLxDjX"
      },
      "source": [
        "from sklearn.metrics import roc_auc_score, classification_report,roc_curve,auc\n",
        "target_names = ['With Mask','Without Mask']"
      ],
      "id": "lbbnV6aLxDjX",
      "execution_count": null,
      "outputs": []
    },
    {
      "cell_type": "code",
      "metadata": {
        "colab": {
          "base_uri": "https://localhost:8080/"
        },
        "id": "FIvLXHqtxGEs",
        "outputId": "821459e7-b9aa-4ac1-c1fe-7c2f6752c4f9"
      },
      "source": [
        "import matplotlib.pyplot as plt\n",
        "import seaborn as sns\n",
        "\n",
        "def print_results():\n",
        "  roc_acc = roc_auc_score(test_generator.labels, predictions)\n",
        "  print('> ROC Accuracy: {}'.format(roc_acc.round(4)))\n",
        "print_results()"
      ],
      "id": "FIvLXHqtxGEs",
      "execution_count": null,
      "outputs": [
        {
          "output_type": "stream",
          "name": "stdout",
          "text": [
            "> ROC Accuracy: 0.9989\n"
          ]
        }
      ]
    },
    {
      "cell_type": "code",
      "metadata": {
        "colab": {
          "base_uri": "https://localhost:8080/",
          "height": 282
        },
        "id": "kUgKrneFxK2m",
        "outputId": "64514722-8ea5-46b8-e720-875527b37adb"
      },
      "source": [
        "nn_fpr, nn_tpr, nn_thresholds = roc_curve(test_generator.labels, predictions)\n",
        "auc_keras = auc(nn_fpr, nn_tpr)\n",
        "plt.plot(nn_fpr, nn_tpr, marker='.', label='Neural Network (auc = %0.3f)' % auc_keras)"
      ],
      "id": "kUgKrneFxK2m",
      "execution_count": null,
      "outputs": [
        {
          "output_type": "execute_result",
          "data": {
            "text/plain": [
              "[<matplotlib.lines.Line2D at 0x7f7197fc5810>]"
            ]
          },
          "metadata": {},
          "execution_count": 48
        },
        {
          "output_type": "display_data",
          "data": {
            "image/png": "[encoded data removed]",
            "text/plain": [
              "<Figure size 432x288 with 1 Axes>"
            ]
          },
          "metadata": {
            "needs_background": "light"
          }
        }
      ]
    },
    {
      "cell_type": "code",
      "metadata": {
        "colab": {
          "background_save": true
        },
        "id": "valued-holocaust"
      },
      "source": [
        ""
      ],
      "id": "valued-holocaust",
      "execution_count": null,
      "outputs": []
    }
  ]
}